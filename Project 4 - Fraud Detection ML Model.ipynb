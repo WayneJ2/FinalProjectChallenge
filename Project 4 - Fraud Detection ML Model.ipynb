{
 "cells": [
  {
   "cell_type": "code",
   "execution_count": 1,
   "id": "3829e572",
   "metadata": {},
   "outputs": [],
   "source": [
    "# Import dependencies\n",
    "import pandas as pd\n",
    "import numpy as np\n",
    "\n",
    "pd.options.display.max_columns = 100\n",
    "pd.options.display.max_rows = 900\n",
    "pd.set_option('float_format', '{:f}'.format)"
   ]
  },
  {
   "cell_type": "code",
   "execution_count": 2,
   "id": "bf002ea7",
   "metadata": {},
   "outputs": [],
   "source": [
    "# Read train CSV\n",
    "df_train = pd.read_csv(\"fraudTrain.csv\", usecols = ['trans_date_trans_time', 'cc_num', 'merchant', 'category',\n",
    "       'amt', 'first', 'last', 'gender', 'street', 'city', 'state', 'zip', 'lat', 'long', 'city_pop', 'dob',\n",
    "       'merch_lat', 'merch_long', 'is_fraud'])"
   ]
  },
  {
   "cell_type": "code",
   "execution_count": 3,
   "id": "56dc0b2a",
   "metadata": {},
   "outputs": [],
   "source": [
    "# Read test CSV\n",
    "df_test = pd.read_csv(\"fraudTest.csv\", usecols = ['trans_date_trans_time', 'cc_num', 'merchant', 'category',\n",
    "       'amt', 'first', 'last', 'gender', 'street', 'city', 'state', 'zip', 'lat', 'long', 'city_pop', 'dob',\n",
    "       'merch_lat', 'merch_long', 'is_fraud'])"
   ]
  },
  {
   "cell_type": "code",
   "execution_count": 4,
   "id": "0d5afddb",
   "metadata": {},
   "outputs": [],
   "source": [
    "# Concat CSVs\n",
    "df = pd.concat([df_train,df_test])\n",
    "df.reset_index(drop=True, inplace=True)"
   ]
  },
  {
   "cell_type": "code",
   "execution_count": 5,
   "id": "86c88555",
   "metadata": {},
   "outputs": [
    {
     "data": {
      "text/html": [
       "<div>\n",
       "<style scoped>\n",
       "    .dataframe tbody tr th:only-of-type {\n",
       "        vertical-align: middle;\n",
       "    }\n",
       "\n",
       "    .dataframe tbody tr th {\n",
       "        vertical-align: top;\n",
       "    }\n",
       "\n",
       "    .dataframe thead th {\n",
       "        text-align: right;\n",
       "    }\n",
       "</style>\n",
       "<table border=\"1\" class=\"dataframe\">\n",
       "  <thead>\n",
       "    <tr style=\"text-align: right;\">\n",
       "      <th></th>\n",
       "      <th>trans_date_trans_time</th>\n",
       "      <th>cc_num</th>\n",
       "      <th>merchant</th>\n",
       "      <th>category</th>\n",
       "      <th>amt</th>\n",
       "      <th>first</th>\n",
       "      <th>last</th>\n",
       "      <th>gender</th>\n",
       "      <th>street</th>\n",
       "      <th>city</th>\n",
       "      <th>state</th>\n",
       "      <th>zip</th>\n",
       "      <th>lat</th>\n",
       "      <th>long</th>\n",
       "      <th>city_pop</th>\n",
       "      <th>dob</th>\n",
       "      <th>merch_lat</th>\n",
       "      <th>merch_long</th>\n",
       "      <th>is_fraud</th>\n",
       "    </tr>\n",
       "  </thead>\n",
       "  <tbody>\n",
       "    <tr>\n",
       "      <th>0</th>\n",
       "      <td>2019-01-01 00:00:18</td>\n",
       "      <td>2703186189652095</td>\n",
       "      <td>fraud_Rippin, Kub and Mann</td>\n",
       "      <td>misc_net</td>\n",
       "      <td>4.970000</td>\n",
       "      <td>Jennifer</td>\n",
       "      <td>Banks</td>\n",
       "      <td>F</td>\n",
       "      <td>561 Perry Cove</td>\n",
       "      <td>Moravian Falls</td>\n",
       "      <td>NC</td>\n",
       "      <td>28654</td>\n",
       "      <td>36.078800</td>\n",
       "      <td>-81.178100</td>\n",
       "      <td>3495</td>\n",
       "      <td>1988-03-09</td>\n",
       "      <td>36.011293</td>\n",
       "      <td>-82.048315</td>\n",
       "      <td>0</td>\n",
       "    </tr>\n",
       "    <tr>\n",
       "      <th>1</th>\n",
       "      <td>2019-01-01 00:00:44</td>\n",
       "      <td>630423337322</td>\n",
       "      <td>fraud_Heller, Gutmann and Zieme</td>\n",
       "      <td>grocery_pos</td>\n",
       "      <td>107.230000</td>\n",
       "      <td>Stephanie</td>\n",
       "      <td>Gill</td>\n",
       "      <td>F</td>\n",
       "      <td>43039 Riley Greens Suite 393</td>\n",
       "      <td>Orient</td>\n",
       "      <td>WA</td>\n",
       "      <td>99160</td>\n",
       "      <td>48.887800</td>\n",
       "      <td>-118.210500</td>\n",
       "      <td>149</td>\n",
       "      <td>1978-06-21</td>\n",
       "      <td>49.159047</td>\n",
       "      <td>-118.186462</td>\n",
       "      <td>0</td>\n",
       "    </tr>\n",
       "    <tr>\n",
       "      <th>2</th>\n",
       "      <td>2019-01-01 00:00:51</td>\n",
       "      <td>38859492057661</td>\n",
       "      <td>fraud_Lind-Buckridge</td>\n",
       "      <td>entertainment</td>\n",
       "      <td>220.110000</td>\n",
       "      <td>Edward</td>\n",
       "      <td>Sanchez</td>\n",
       "      <td>M</td>\n",
       "      <td>594 White Dale Suite 530</td>\n",
       "      <td>Malad City</td>\n",
       "      <td>ID</td>\n",
       "      <td>83252</td>\n",
       "      <td>42.180800</td>\n",
       "      <td>-112.262000</td>\n",
       "      <td>4154</td>\n",
       "      <td>1962-01-19</td>\n",
       "      <td>43.150704</td>\n",
       "      <td>-112.154481</td>\n",
       "      <td>0</td>\n",
       "    </tr>\n",
       "    <tr>\n",
       "      <th>3</th>\n",
       "      <td>2019-01-01 00:01:16</td>\n",
       "      <td>3534093764340240</td>\n",
       "      <td>fraud_Kutch, Hermiston and Farrell</td>\n",
       "      <td>gas_transport</td>\n",
       "      <td>45.000000</td>\n",
       "      <td>Jeremy</td>\n",
       "      <td>White</td>\n",
       "      <td>M</td>\n",
       "      <td>9443 Cynthia Court Apt. 038</td>\n",
       "      <td>Boulder</td>\n",
       "      <td>MT</td>\n",
       "      <td>59632</td>\n",
       "      <td>46.230600</td>\n",
       "      <td>-112.113800</td>\n",
       "      <td>1939</td>\n",
       "      <td>1967-01-12</td>\n",
       "      <td>47.034331</td>\n",
       "      <td>-112.561071</td>\n",
       "      <td>0</td>\n",
       "    </tr>\n",
       "    <tr>\n",
       "      <th>4</th>\n",
       "      <td>2019-01-01 00:03:06</td>\n",
       "      <td>375534208663984</td>\n",
       "      <td>fraud_Keeling-Crist</td>\n",
       "      <td>misc_pos</td>\n",
       "      <td>41.960000</td>\n",
       "      <td>Tyler</td>\n",
       "      <td>Garcia</td>\n",
       "      <td>M</td>\n",
       "      <td>408 Bradley Rest</td>\n",
       "      <td>Doe Hill</td>\n",
       "      <td>VA</td>\n",
       "      <td>24433</td>\n",
       "      <td>38.420700</td>\n",
       "      <td>-79.462900</td>\n",
       "      <td>99</td>\n",
       "      <td>1986-03-28</td>\n",
       "      <td>38.674999</td>\n",
       "      <td>-78.632459</td>\n",
       "      <td>0</td>\n",
       "    </tr>\n",
       "  </tbody>\n",
       "</table>\n",
       "</div>"
      ],
      "text/plain": [
       "  trans_date_trans_time            cc_num                            merchant  \\\n",
       "0   2019-01-01 00:00:18  2703186189652095          fraud_Rippin, Kub and Mann   \n",
       "1   2019-01-01 00:00:44      630423337322     fraud_Heller, Gutmann and Zieme   \n",
       "2   2019-01-01 00:00:51    38859492057661                fraud_Lind-Buckridge   \n",
       "3   2019-01-01 00:01:16  3534093764340240  fraud_Kutch, Hermiston and Farrell   \n",
       "4   2019-01-01 00:03:06   375534208663984                 fraud_Keeling-Crist   \n",
       "\n",
       "        category        amt      first     last gender  \\\n",
       "0       misc_net   4.970000   Jennifer    Banks      F   \n",
       "1    grocery_pos 107.230000  Stephanie     Gill      F   \n",
       "2  entertainment 220.110000     Edward  Sanchez      M   \n",
       "3  gas_transport  45.000000     Jeremy    White      M   \n",
       "4       misc_pos  41.960000      Tyler   Garcia      M   \n",
       "\n",
       "                         street            city state    zip       lat  \\\n",
       "0                561 Perry Cove  Moravian Falls    NC  28654 36.078800   \n",
       "1  43039 Riley Greens Suite 393          Orient    WA  99160 48.887800   \n",
       "2      594 White Dale Suite 530      Malad City    ID  83252 42.180800   \n",
       "3   9443 Cynthia Court Apt. 038         Boulder    MT  59632 46.230600   \n",
       "4              408 Bradley Rest        Doe Hill    VA  24433 38.420700   \n",
       "\n",
       "         long  city_pop         dob  merch_lat  merch_long  is_fraud  \n",
       "0  -81.178100      3495  1988-03-09  36.011293  -82.048315         0  \n",
       "1 -118.210500       149  1978-06-21  49.159047 -118.186462         0  \n",
       "2 -112.262000      4154  1962-01-19  43.150704 -112.154481         0  \n",
       "3 -112.113800      1939  1967-01-12  47.034331 -112.561071         0  \n",
       "4  -79.462900        99  1986-03-28  38.674999  -78.632459         0  "
      ]
     },
     "execution_count": 5,
     "metadata": {},
     "output_type": "execute_result"
    }
   ],
   "source": [
    "df.head()"
   ]
  },
  {
   "cell_type": "code",
   "execution_count": 6,
   "id": "3da79445",
   "metadata": {},
   "outputs": [
    {
     "name": "stdout",
     "output_type": "stream",
     "text": [
      "<class 'pandas.core.frame.DataFrame'>\n",
      "RangeIndex: 1852394 entries, 0 to 1852393\n",
      "Data columns (total 19 columns):\n",
      " #   Column                 Dtype  \n",
      "---  ------                 -----  \n",
      " 0   trans_date_trans_time  object \n",
      " 1   cc_num                 int64  \n",
      " 2   merchant               object \n",
      " 3   category               object \n",
      " 4   amt                    float64\n",
      " 5   first                  object \n",
      " 6   last                   object \n",
      " 7   gender                 object \n",
      " 8   street                 object \n",
      " 9   city                   object \n",
      " 10  state                  object \n",
      " 11  zip                    int64  \n",
      " 12  lat                    float64\n",
      " 13  long                   float64\n",
      " 14  city_pop               int64  \n",
      " 15  dob                    object \n",
      " 16  merch_lat              float64\n",
      " 17  merch_long             float64\n",
      " 18  is_fraud               int64  \n",
      "dtypes: float64(5), int64(4), object(10)\n",
      "memory usage: 268.5+ MB\n"
     ]
    }
   ],
   "source": [
    "df.info()"
   ]
  },
  {
   "cell_type": "code",
   "execution_count": 7,
   "id": "800d5bea",
   "metadata": {},
   "outputs": [
    {
     "data": {
      "text/plain": [
       "trans_date_trans_time    1819551\n",
       "cc_num                       999\n",
       "merchant                     693\n",
       "category                      14\n",
       "amt                        60616\n",
       "first                        355\n",
       "last                         486\n",
       "gender                         2\n",
       "street                       999\n",
       "city                         906\n",
       "state                         51\n",
       "zip                          985\n",
       "lat                          983\n",
       "long                         983\n",
       "city_pop                     891\n",
       "dob                          984\n",
       "merch_lat                1754157\n",
       "merch_long               1809753\n",
       "is_fraud                       2\n",
       "dtype: int64"
      ]
     },
     "execution_count": 7,
     "metadata": {},
     "output_type": "execute_result"
    }
   ],
   "source": [
    "df.nunique()"
   ]
  },
  {
   "cell_type": "code",
   "execution_count": 8,
   "id": "0e9fe20e",
   "metadata": {},
   "outputs": [],
   "source": [
    "# Convert transaction datetime\n",
    "df['trans_date_trans_time'] = pd.to_datetime(df['trans_date_trans_time'])"
   ]
  },
  {
   "cell_type": "code",
   "execution_count": 9,
   "id": "be53c701",
   "metadata": {},
   "outputs": [
    {
     "data": {
      "text/plain": [
       "0           0\n",
       "1           0\n",
       "2           0\n",
       "3           0\n",
       "4           0\n",
       "           ..\n",
       "1852389    23\n",
       "1852390    23\n",
       "1852391    23\n",
       "1852392    23\n",
       "1852393    23\n",
       "Name: trans_hour, Length: 1852394, dtype: int64"
      ]
     },
     "execution_count": 9,
     "metadata": {},
     "output_type": "execute_result"
    }
   ],
   "source": [
    "# Notes\n",
    "df['trans_hour'] = df['trans_date_trans_time'].dt.hour\n",
    "df['trans_hour']"
   ]
  },
  {
   "cell_type": "code",
   "execution_count": 10,
   "id": "cedab121",
   "metadata": {},
   "outputs": [
    {
     "data": {
      "text/plain": [
       "0           Tuesday\n",
       "1           Tuesday\n",
       "2           Tuesday\n",
       "3           Tuesday\n",
       "4           Tuesday\n",
       "             ...   \n",
       "1852389    Thursday\n",
       "1852390    Thursday\n",
       "1852391    Thursday\n",
       "1852392    Thursday\n",
       "1852393    Thursday\n",
       "Name: day_of_week, Length: 1852394, dtype: object"
      ]
     },
     "execution_count": 10,
     "metadata": {},
     "output_type": "execute_result"
    }
   ],
   "source": [
    "# Notes\n",
    "df['day_of_week'] = df['trans_date_trans_time'].dt.day_name()\n",
    "df['day_of_week']"
   ]
  },
  {
   "cell_type": "code",
   "execution_count": 11,
   "id": "8ab4b31f",
   "metadata": {},
   "outputs": [
    {
     "data": {
      "text/plain": [
       "0          2019-01\n",
       "1          2019-01\n",
       "2          2019-01\n",
       "3          2019-01\n",
       "4          2019-01\n",
       "            ...   \n",
       "1852389    2020-12\n",
       "1852390    2020-12\n",
       "1852391    2020-12\n",
       "1852392    2020-12\n",
       "1852393    2020-12\n",
       "Name: year_month, Length: 1852394, dtype: period[M]"
      ]
     },
     "execution_count": 11,
     "metadata": {},
     "output_type": "execute_result"
    }
   ],
   "source": [
    "# Notes\n",
    "df['year_month'] = df['trans_date_trans_time'].dt.to_period('M')\n",
    "df['year_month']"
   ]
  },
  {
   "cell_type": "code",
   "execution_count": 12,
   "id": "e6a226a9",
   "metadata": {},
   "outputs": [],
   "source": [
    "# Convert dob column to datetime\n",
    "df['dob'] = pd.to_datetime(df['dob'])"
   ]
  },
  {
   "cell_type": "code",
   "execution_count": 13,
   "id": "21369ade",
   "metadata": {},
   "outputs": [],
   "source": [
    "# Create age column\n",
    "df['age'] = np.round((df['trans_date_trans_time'] - df['dob'])/np.timedelta64(1,'Y'))"
   ]
  },
  {
   "cell_type": "code",
   "execution_count": 14,
   "id": "8f54ec7b",
   "metadata": {},
   "outputs": [],
   "source": [
    "# One-hot encoding / get dummies\n",
    "category_onehot = pd.get_dummies(df.category, prefix='category')\n",
    "gender_onehot = pd.get_dummies(df.gender, prefix='gender')\n",
    "day_of_week_onehot = pd.get_dummies(df.day_of_week, prefix='week')"
   ]
  },
  {
   "cell_type": "code",
   "execution_count": 15,
   "id": "54fb4f0c",
   "metadata": {},
   "outputs": [],
   "source": [
    "# One-hot / get dummies cont.\n",
    "df1 = pd.concat([df, category_onehot,gender_onehot,day_of_week_onehot], axis=1)"
   ]
  },
  {
   "cell_type": "code",
   "execution_count": 16,
   "id": "7643ba0b",
   "metadata": {},
   "outputs": [],
   "source": [
    "# Concat\n",
    "df_final = pd.concat([df, category_onehot,gender_onehot,day_of_week_onehot], axis=1)"
   ]
  },
  {
   "cell_type": "code",
   "execution_count": 17,
   "id": "e1886a15",
   "metadata": {},
   "outputs": [],
   "source": [
    "# Import scikitlearn\n",
    "from sklearn.model_selection import train_test_split"
   ]
  },
  {
   "cell_type": "code",
   "execution_count": 18,
   "id": "62184a57",
   "metadata": {},
   "outputs": [],
   "source": [
    "# Balance by sampling\n",
    "count_fraud = df_final[df_final['is_fraud'] == 1]['amt'].count()\n",
    "df_fraud = df_final[df_final['is_fraud'] == 1]\n",
    "df_legit = df_final[df_final['is_fraud'] == 0]"
   ]
  },
  {
   "cell_type": "code",
   "execution_count": 19,
   "id": "e009096f",
   "metadata": {},
   "outputs": [
    {
     "name": "stdout",
     "output_type": "stream",
     "text": [
      "Random over-sampling:\n",
      "0    9651\n",
      "1    9651\n",
      "Name: is_fraud, dtype: int64\n"
     ]
    }
   ],
   "source": [
    "# Notes\n",
    "df_legit_sample = df_legit.sample(count_fraud, replace=True)\n",
    "df_undersample = pd.concat([df_fraud, df_legit_sample], axis=0)\n",
    "\n",
    "print('Random over-sampling:')\n",
    "print(df_undersample['is_fraud'].value_counts())"
   ]
  },
  {
   "cell_type": "code",
   "execution_count": 20,
   "id": "c29daf06",
   "metadata": {},
   "outputs": [
    {
     "data": {
      "text/plain": [
       "(19302, 46)"
      ]
     },
     "execution_count": 20,
     "metadata": {},
     "output_type": "execute_result"
    }
   ],
   "source": [
    "df_undersample.shape"
   ]
  },
  {
   "cell_type": "code",
   "execution_count": 21,
   "id": "e963e3e4",
   "metadata": {},
   "outputs": [],
   "source": [
    "# Split train & test\n",
    "X_cols = ['amt', 'trans_hour',\n",
    "       'age', 'category_entertainment', 'category_food_dining',\n",
    "       'category_gas_transport', 'category_grocery_net',\n",
    "       'category_grocery_pos', 'category_health_fitness', 'category_home',\n",
    "       'category_kids_pets', 'category_misc_net', 'category_misc_pos',\n",
    "       'category_personal_care', 'category_shopping_net',\n",
    "       'category_shopping_pos', 'category_travel', 'gender_F', 'gender_M',\n",
    "       'week_Friday', 'week_Monday', 'week_Saturday', 'week_Sunday',\n",
    "       'week_Thursday', 'week_Tuesday', 'week_Wednesday']\n",
    "\n",
    "Y_cols = ['is_fraud']"
   ]
  },
  {
   "cell_type": "code",
   "execution_count": 22,
   "id": "680c9c73",
   "metadata": {},
   "outputs": [],
   "source": [
    "# Split train & test\n",
    "X_train, X_test, y_train, y_test = train_test_split(df_undersample[X_cols], df_undersample[Y_cols],\n",
    "                                                    train_size=0.7, test_size=0.3)"
   ]
  },
  {
   "cell_type": "code",
   "execution_count": 23,
   "id": "fca39267",
   "metadata": {},
   "outputs": [],
   "source": [
    "# Split test data into validation and test set\n",
    "X_test1, X_test2, y_test1, y_test2 = train_test_split(X_test, y_test, train_size=0.5, test_size=0.5)"
   ]
  },
  {
   "cell_type": "code",
   "execution_count": 24,
   "id": "cbaac5d9",
   "metadata": {},
   "outputs": [],
   "source": [
    "# Import RandomForest\n",
    "from sklearn.ensemble import RandomForestClassifier\n",
    "from sklearn.metrics import accuracy_score, confusion_matrix, classification_report"
   ]
  },
  {
   "cell_type": "code",
   "execution_count": 25,
   "id": "ab3f555d",
   "metadata": {},
   "outputs": [
    {
     "name": "stderr",
     "output_type": "stream",
     "text": [
      "<ipython-input-25-a9fe53ceff92>:3: DataConversionWarning: A column-vector y was passed when a 1d array was expected. Please change the shape of y to (n_samples,), for example using ravel().\n",
      "  rf_class.fit(X_train, y_train)\n",
      "[Parallel(n_jobs=1)]: Using backend SequentialBackend with 1 concurrent workers.\n",
      "[Parallel(n_jobs=1)]: Done  50 out of  50 | elapsed:    0.4s finished\n"
     ]
    },
    {
     "data": {
      "text/plain": [
       "RandomForestClassifier(max_depth=20, n_estimators=50, verbose=1)"
      ]
     },
     "execution_count": 25,
     "metadata": {},
     "output_type": "execute_result"
    }
   ],
   "source": [
    "# Building Random Forest Model\n",
    "rf_class = RandomForestClassifier(n_estimators = 50,max_depth = 20, verbose = 1)\n",
    "rf_class.fit(X_train, y_train)"
   ]
  },
  {
   "cell_type": "code",
   "execution_count": 26,
   "id": "9ba7f056",
   "metadata": {},
   "outputs": [
    {
     "name": "stdout",
     "output_type": "stream",
     "text": [
      "Train Results\n",
      "[[6719    5]\n",
      " [   9 6778]]\n",
      "              precision    recall  f1-score   support\n",
      "\n",
      "           0       1.00      1.00      1.00      6724\n",
      "           1       1.00      1.00      1.00      6787\n",
      "\n",
      "    accuracy                           1.00     13511\n",
      "   macro avg       1.00      1.00      1.00     13511\n",
      "weighted avg       1.00      1.00      1.00     13511\n",
      "\n"
     ]
    },
    {
     "name": "stderr",
     "output_type": "stream",
     "text": [
      "[Parallel(n_jobs=1)]: Using backend SequentialBackend with 1 concurrent workers.\n",
      "[Parallel(n_jobs=1)]: Done  50 out of  50 | elapsed:    0.0s finished\n"
     ]
    }
   ],
   "source": [
    "# Train Results\n",
    "print(\"Train Results\")\n",
    "predict_train = rf_class.predict(X_train)\n",
    "\n",
    "print(confusion_matrix(y_train, predict_train))\n",
    "print(classification_report(y_train, predict_train))"
   ]
  },
  {
   "cell_type": "code",
   "execution_count": 27,
   "id": "9ce73b64",
   "metadata": {},
   "outputs": [
    {
     "name": "stdout",
     "output_type": "stream",
     "text": [
      "Test Results\n"
     ]
    },
    {
     "name": "stderr",
     "output_type": "stream",
     "text": [
      "[Parallel(n_jobs=1)]: Using backend SequentialBackend with 1 concurrent workers.\n",
      "[Parallel(n_jobs=1)]: Done  50 out of  50 | elapsed:    0.0s finished\n"
     ]
    },
    {
     "name": "stdout",
     "output_type": "stream",
     "text": [
      "[[1452   36]\n",
      " [  31 1376]]\n",
      "              precision    recall  f1-score   support\n",
      "\n",
      "           0       0.98      0.98      0.98      1488\n",
      "           1       0.97      0.98      0.98      1407\n",
      "\n",
      "    accuracy                           0.98      2895\n",
      "   macro avg       0.98      0.98      0.98      2895\n",
      "weighted avg       0.98      0.98      0.98      2895\n",
      "\n"
     ]
    }
   ],
   "source": [
    "# Test Results\n",
    "print(\"Test Results\")\n",
    "pred_test = rf_class.predict(X_test1)\n",
    "\n",
    "print(confusion_matrix(y_test1, pred_test))\n",
    "print(classification_report(y_test1, pred_test))"
   ]
  },
  {
   "cell_type": "code",
   "execution_count": 28,
   "id": "2accfe2d",
   "metadata": {},
   "outputs": [],
   "source": [
    "# Export final X & y tests\n",
    "X_test2.to_csv(\"X_test.csv\")\n",
    "y_test2.to_csv(\"y_test.csv\")"
   ]
  },
  {
   "cell_type": "code",
   "execution_count": 29,
   "id": "d6c98a05",
   "metadata": {},
   "outputs": [
    {
     "data": {
      "text/plain": [
       "['model.pkl']"
      ]
     },
     "execution_count": 29,
     "metadata": {},
     "output_type": "execute_result"
    }
   ],
   "source": [
    "# Export model\n",
    "import joblib\n",
    "joblib.dump(rf_class, \"model.pkl\", compress=9)"
   ]
  }
 ],
 "metadata": {
  "kernelspec": {
   "display_name": "Python 3",
   "language": "python",
   "name": "python3"
  },
  "language_info": {
   "codemirror_mode": {
    "name": "ipython",
    "version": 3
   },
   "file_extension": ".py",
   "mimetype": "text/x-python",
   "name": "python",
   "nbconvert_exporter": "python",
   "pygments_lexer": "ipython3",
   "version": "3.8.8"
  }
 },
 "nbformat": 4,
 "nbformat_minor": 5
}
